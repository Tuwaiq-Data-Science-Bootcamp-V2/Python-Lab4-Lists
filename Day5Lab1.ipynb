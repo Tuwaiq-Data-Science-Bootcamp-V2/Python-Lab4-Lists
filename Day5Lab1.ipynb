{
  "nbformat": 4,
  "nbformat_minor": 0,
  "metadata": {
    "colab": {
      "provenance": []
    },
    "kernelspec": {
      "name": "python3",
      "display_name": "Python 3"
    },
    "language_info": {
      "name": "python"
    }
  },
  "cells": [
    {
      "cell_type": "code",
      "execution_count": null,
      "metadata": {
        "id": "B0JHBOza-Lj0"
      },
      "outputs": [],
      "source": [
        "\"\"\"Given the following list : [5, 4, 17, 19, 30, 2, 7, 10, 45]\n",
        "\n",
        "\n",
        "Q2: Write a Python program to get the largest number from the list.\n",
        "Q3: Use list comprehension, create a new list from the above list containing only even numbers.\n",
        "Q4: Use list slicing to get a new list from the previous list starting from the start to the 5th element in the list.\n",
        "\"\"\""
      ]
    },
    {
      "cell_type": "code",
      "source": [
        "list = [5,4,17,19,30,2,7,10,45]"
      ],
      "metadata": {
        "id": "Iubr7R9X-bs-"
      },
      "execution_count": 14,
      "outputs": []
    },
    {
      "cell_type": "code",
      "source": [
        "#Q1: Write a Python program to sum all the items in the list.\n",
        "total=0\n",
        "print(sum(list))\n",
        "for val in list:\n",
        "  total=total+val\n",
        "print(total)\n",
        "\n",
        "\n",
        "  \n",
        " "
      ],
      "metadata": {
        "colab": {
          "base_uri": "https://localhost:8080/"
        },
        "id": "tXQ00ERN-oII",
        "outputId": "022c7039-8fff-4c50-8a3a-b4780cba7d99"
      },
      "execution_count": 15,
      "outputs": [
        {
          "output_type": "stream",
          "name": "stdout",
          "text": [
            "139\n",
            "139\n"
          ]
        }
      ]
    },
    {
      "cell_type": "code",
      "source": [
        "#Q3: Use list comprehension, create a new list from the above list containing only even numbers."
      ],
      "metadata": {
        "id": "AZLdYH_KBCkj"
      },
      "execution_count": null,
      "outputs": []
    },
    {
      "cell_type": "code",
      "source": [
        "list_new =[i for i in list if i%2==0]\n",
        "print(list_new)"
      ],
      "metadata": {
        "colab": {
          "base_uri": "https://localhost:8080/"
        },
        "id": "B4Gzm4oaBMOE",
        "outputId": "200c67e7-55d8-4435-ec20-8c96f712ce75"
      },
      "execution_count": 18,
      "outputs": [
        {
          "output_type": "stream",
          "name": "stdout",
          "text": [
            "[4, 30, 2, 10]\n"
          ]
        }
      ]
    },
    {
      "cell_type": "code",
      "source": [
        "#Q4: Use list slicing to get a new list from the previous list starting from the start to the 5th element in the list.\n",
        "slice_list=list[:5]\n",
        "print(slice_list)"
      ],
      "metadata": {
        "colab": {
          "base_uri": "https://localhost:8080/"
        },
        "id": "Na92__FwCIID",
        "outputId": "dbebfba3-fd4f-477a-8784-ce69c8adcd3a"
      },
      "execution_count": 21,
      "outputs": [
        {
          "output_type": "stream",
          "name": "stdout",
          "text": [
            "[5, 4, 17, 19, 30]\n"
          ]
        }
      ]
    }
  ]
}