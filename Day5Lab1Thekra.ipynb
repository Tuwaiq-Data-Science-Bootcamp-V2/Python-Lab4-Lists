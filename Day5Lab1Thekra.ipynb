{
 "cells": [
  {
   "cell_type": "code",
   "execution_count": 6,
   "id": "c8822c9b-dea5-43fa-b27a-4567bd945cf7",
   "metadata": {},
   "outputs": [
    {
     "name": "stdout",
     "output_type": "stream",
     "text": [
      "The sum of all elements: 139\n",
      "Largest element is: 45\n",
      "Even numbers in the list:  [4, 30, 2, 10]\n",
      "[5, 4, 17, 19, 30]\n"
     ]
    }
   ],
   "source": [
    "list = [5, 4, 17, 19, 30, 2, 7, 10, 45]\n",
    "#sum all the items in the list.\n",
    "sumList = sum(list)\n",
    "print(\"The sum of all elements:\",sumList)\n",
    "print(\"Largest element is:\", max(list))\n",
    "even_num = [num for num in list if num % 2 == 0]\n",
    "print(\"Even numbers in the list: \", even_num)\n",
    "\n",
    "print(list[0:5])"
   ]
  },
  {
   "cell_type": "code",
   "execution_count": null,
   "id": "0749143f-6f61-48f2-b70f-9578e61a4951",
   "metadata": {},
   "outputs": [],
   "source": []
  }
 ],
 "metadata": {
  "kernelspec": {
   "display_name": "Python 3 (ipykernel)",
   "language": "python",
   "name": "python3"
  },
  "language_info": {
   "codemirror_mode": {
    "name": "ipython",
    "version": 3
   },
   "file_extension": ".py",
   "mimetype": "text/x-python",
   "name": "python",
   "nbconvert_exporter": "python",
   "pygments_lexer": "ipython3",
   "version": "3.9.13"
  }
 },
 "nbformat": 4,
 "nbformat_minor": 5
}
