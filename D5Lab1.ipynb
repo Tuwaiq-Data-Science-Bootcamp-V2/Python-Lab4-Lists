{
 "cells": [
  {
   "cell_type": "code",
   "execution_count": 5,
   "id": "a5c5d0cd",
   "metadata": {},
   "outputs": [
    {
     "name": "stdout",
     "output_type": "stream",
     "text": [
      "The sum of my_list is 139\n"
     ]
    }
   ],
   "source": [
    "def sum_of_list(l):\n",
    "  total = 0\n",
    "  for val in l:\n",
    "    total = total + val\n",
    "  return total\n",
    "\n",
    "my_list = [5, 4, 17, 19, 30, 2, 7, 10, 45]\n",
    "print(\"The sum of my_list is\", sum_of_list(my_list))"
   ]
  },
  {
   "cell_type": "code",
   "execution_count": 11,
   "id": "330f5a5e",
   "metadata": {},
   "outputs": [
    {
     "name": "stdout",
     "output_type": "stream",
     "text": [
      "45\n"
     ]
    }
   ],
   "source": [
    "lst = [5, 4, 17, 19, 30, 2, 7, 10, 45]\n",
    "print(max(lst))"
   ]
  },
  {
   "cell_type": "code",
   "execution_count": 12,
   "id": "ba4b8814",
   "metadata": {},
   "outputs": [
    {
     "name": "stdout",
     "output_type": "stream",
     "text": [
      "4 30 2 10 "
     ]
    }
   ],
   "source": [
    "list1 = [5, 4, 17, 19, 30, 2, 7, 10, 45]\n",
    " \n",
    "for num in list1:\n",
    " \n",
    "    if num % 2 == 0:\n",
    "        print(num, end=\" \")"
   ]
  },
  {
   "cell_type": "code",
   "execution_count": 15,
   "id": "a22fd355",
   "metadata": {},
   "outputs": [
    {
     "name": "stdout",
     "output_type": "stream",
     "text": [
      "[5, 4, 17, 19, 30]\n"
     ]
    }
   ],
   "source": [
    "Lst = [5, 4, 17, 19, 30, 2, 7, 10, 45]\n",
    " \n",
    "print(Lst[0:5])"
   ]
  },
  {
   "cell_type": "code",
   "execution_count": null,
   "id": "6b162ae6",
   "metadata": {},
   "outputs": [],
   "source": []
  }
 ],
 "metadata": {
  "kernelspec": {
   "display_name": "Python 3",
   "language": "python",
   "name": "python3"
  },
  "language_info": {
   "codemirror_mode": {
    "name": "ipython",
    "version": 3
   },
   "file_extension": ".py",
   "mimetype": "text/x-python",
   "name": "python",
   "nbconvert_exporter": "python",
   "pygments_lexer": "ipython3",
   "version": "3.8.8"
  }
 },
 "nbformat": 4,
 "nbformat_minor": 5
}
